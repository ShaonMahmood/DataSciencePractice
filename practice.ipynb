{
 "cells": [
  {
   "cell_type": "code",
   "execution_count": 1,
   "metadata": {},
   "outputs": [],
   "source": [
    "import re\n",
    "ss = \"500.0   5730  -12.7                         265     51  317.5         317.5\""
   ]
  },
  {
   "cell_type": "code",
   "execution_count": 9,
   "metadata": {},
   "outputs": [
    {
     "data": {
      "text/plain": [
       "'500.0   5730  -12.7***    265     51  317.5*  317.5'"
      ]
     },
     "execution_count": 9,
     "metadata": {},
     "output_type": "execute_result"
    }
   ],
   "source": [
    "ss.replace(\"       \",\"*\")"
   ]
  },
  {
   "cell_type": "code",
   "execution_count": 6,
   "metadata": {},
   "outputs": [
    {
     "data": {
      "text/plain": [
       "'aa*bb*cc'"
      ]
     },
     "execution_count": 6,
     "metadata": {},
     "output_type": "execute_result"
    }
   ],
   "source": [
    "ss1 = \"aa    bb    cc\"\n",
    "ss1.replace(\"    \",\"*\")"
   ]
  },
  {
   "cell_type": "code",
   "execution_count": 11,
   "metadata": {},
   "outputs": [
    {
     "data": {
      "text/plain": [
       "['129.0', '14824', '-76.5*****', '353.0*', '353.0']"
      ]
     },
     "execution_count": 11,
     "metadata": {},
     "output_type": "execute_result"
    }
   ],
   "source": [
    "ss11 = \"129.0  14824  -76.5                                     353.0         353.0\"\n",
    "ss22 = ss11.replace(\"       \",\"*\").split()"
   ]
  },
  {
   "cell_type": "code",
   "execution_count": 20,
   "metadata": {},
   "outputs": [],
   "source": [
    "bb = '223***'.split('*')\n",
    "cc = ['NA' if x=='' else x for x in bb]"
   ]
  },
  {
   "cell_type": "code",
   "execution_count": 21,
   "metadata": {},
   "outputs": [
    {
     "data": {
      "text/plain": [
       "['223', 'NA', 'NA', 'NA']"
      ]
     },
     "execution_count": 21,
     "metadata": {},
     "output_type": "execute_result"
    }
   ],
   "source": [
    "cc"
   ]
  },
  {
   "cell_type": "code",
   "execution_count": 26,
   "metadata": {},
   "outputs": [
    {
     "name": "stdout",
     "output_type": "stream",
     "text": [
      "['129.0', '14824', '-76.5', 'NA', 'NA', 'NA', 'NA', 'NA', '353.0', 'NA', '353.0']\n"
     ]
    }
   ],
   "source": [
    "ss11 = \"129.0  14824  -76.5                                     353.0         353.0\"\n",
    "ss22 = ss11.replace(\"       \",\"*\").split()\n",
    "ss33 = []\n",
    "for i in ss22:\n",
    "    if \"*\" in i:\n",
    "        aa = i.split('*')\n",
    "        cc = ['NA' if x=='' else x for x in aa]\n",
    "        ss33.extend(cc)\n",
    "    ss33.append(i)\n",
    "\n",
    "somelist = [x for x in ss33 if \"*\" not in x]   \n",
    "print(somelist)"
   ]
  },
  {
   "cell_type": "code",
   "execution_count": 24,
   "metadata": {},
   "outputs": [
    {
     "data": {
      "text/plain": [
       "['129.0',\n",
       " '14824',\n",
       " '-76.5',\n",
       " 'NA',\n",
       " 'NA',\n",
       " 'NA',\n",
       " 'NA',\n",
       " 'NA',\n",
       " '-76.5*****',\n",
       " '353.0',\n",
       " 'NA',\n",
       " '353.0*',\n",
       " '353.0']"
      ]
     },
     "execution_count": 24,
     "metadata": {},
     "output_type": "execute_result"
    }
   ],
   "source": [
    "ss33"
   ]
  },
  {
   "cell_type": "code",
   "execution_count": null,
   "metadata": {},
   "outputs": [],
   "source": []
  }
 ],
 "metadata": {
  "kernelspec": {
   "display_name": "Python 3",
   "language": "python",
   "name": "python3"
  },
  "language_info": {
   "codemirror_mode": {
    "name": "ipython",
    "version": 3
   },
   "file_extension": ".py",
   "mimetype": "text/x-python",
   "name": "python",
   "nbconvert_exporter": "python",
   "pygments_lexer": "ipython3",
   "version": "3.7.3"
  }
 },
 "nbformat": 4,
 "nbformat_minor": 2
}
