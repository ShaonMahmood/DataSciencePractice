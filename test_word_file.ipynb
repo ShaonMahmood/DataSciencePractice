{
 "cells": [
  {
   "cell_type": "code",
   "execution_count": 1,
   "metadata": {},
   "outputs": [
    {
     "name": "stdout",
     "output_type": "stream",
     "text": [
      "Setup Complete\n"
     ]
    }
   ],
   "source": [
    "import docx\n",
    "import numpy as np\n",
    "import pandas as pd\n",
    "import matplotlib.pyplot as plt\n",
    "%matplotlib inline\n",
    "import seaborn as sns\n",
    "print(\"Setup Complete\")"
   ]
  },
  {
   "cell_type": "code",
   "execution_count": 4,
   "metadata": {},
   "outputs": [],
   "source": [
    "doc = docx.Document('data/demo.docx')"
   ]
  },
  {
   "cell_type": "code",
   "execution_count": 5,
   "metadata": {},
   "outputs": [
    {
     "data": {
      "text/plain": [
       "200"
      ]
     },
     "execution_count": 5,
     "metadata": {},
     "output_type": "execute_result"
    }
   ],
   "source": [
    "len(doc.paragraphs)"
   ]
  },
  {
   "cell_type": "code",
   "execution_count": 9,
   "metadata": {},
   "outputs": [],
   "source": [
    "Observation_list = []\n",
    "Station_list = []\n",
    "emp1 = []\n",
    "heading = ''\n",
    "agar_para = False\n",
    "for para in doc.paragraphs:\n",
    "    if \"Agartala Observations\" in para.text:\n",
    "        if agar_para:\n",
    "            Observation_list.append('\\n'.join(emp1))\n",
    "            emp1 = []\n",
    "            a = para.text.split()[-4:]\n",
    "            a_val = \" \".join(a)\n",
    "            a_key = \"Date: \"\n",
    "            heading = a_key + a_val\n",
    "        else:\n",
    "            a = para.text.split()[-4:]\n",
    "            a_val = \" \".join(a)\n",
    "            a_key = \"Date: \"\n",
    "            heading = a_key + a_val\n",
    "            if emp1:\n",
    "                Station_list.append('\\n'.join(emp1))\n",
    "                emp1 = []\n",
    "            agar_para = True\n",
    "    if \"Station information\" in para.text:\n",
    "        Observation_list.append('\\n'.join(emp1))\n",
    "        emp1 = []\n",
    "        emp1.append(heading)\n",
    "        agar_para = False\n",
    "        \n",
    "    if \"Station information\" not in para.text.strip():\n",
    "        emp1.append(para.text.strip())\n",
    "    \n",
    "Station_list.append('\\n'.join(emp1))"
   ]
  },
  {
   "cell_type": "code",
   "execution_count": 10,
   "metadata": {},
   "outputs": [
    {
     "data": {
      "text/plain": [
       "['42724 VEAT Agartala Observations at 00Z 11 Jan 1985\\n-----------------------------------------------------------------------------\\nPRES   HGHT   TEMP   DWPT   RELH   MIXR   DRCT   SKNT   THTA   THTE   THTV\\nhPa     m      C      C      %    g/kg    deg   knot     K      K      K\\n-----------------------------------------------------------------------------\\n1013.0     16    8.0    7.6     97   6.50    360      0  280.1  298.0  281.2\\n1000.0    124   10.4    6.0     74   5.90     15      6  283.6  300.1  284.6\\n956.0    503   14.0    3.0     47   4.99    354      9  290.9  305.5  291.7\\n850.0   1489    9.6   -8.4     27   2.40    300     17  296.2  303.7  296.6\\n831.0   1676    9.0  -10.0     25   2.16    297     21  297.5  304.3  297.9\\n768.0   2325    5.0   -4.0     52   3.72    284     36  299.9  311.4  300.6\\n700.0   3079    3.0  -14.0     27   1.86    270     54  305.8  311.9  306.1\\n685.0   3255    3.0  -16.0     23   1.61    270     54  307.7  313.1  308.0\\n648.0   3702    0.0  -19.0     22   1.32    269     53  309.2  313.7  309.4\\n600.0   4314   -4.1  -23.1     21   1.00    268     53  311.3  314.8  311.5\\n590.0   4447   -4.9  -23.9     21   0.95    267     52  311.9  315.2  312.1\\n500.0   5730  -12.7                         265     51  317.5         317.5\\n457.0   6410  -16.7                         265     56  320.8         320.8\\n410.0   7216  -20.3                         265     62  326.2         326.2\\n400.0   7400  -21.1                         265     60  327.5         327.5\\n366.0   8052  -23.7                                     332.4         332.4',\n",
       " '42724 VEAT Agartala Observations at 00Z 22 Jan 2009\\n-----------------------------------------------------------------------------\\nPRES   HGHT   TEMP   DWPT   RELH   MIXR   DRCT   SKNT   THTA   THTE   THTV\\nhPa     m      C      C      %    g/kg    deg   knot     K      K      K\\n-----------------------------------------------------------------------------\\n1012.0     16   12.2   11.6     96   8.54      0      0  284.4  308.1  285.8\\n1010.0     32   14.6   14.5     99  10.38      1      0  286.9  315.9  288.7\\n1000.0    114   15.2   15.0     99  10.83      5      1  288.4  318.8  290.2\\n976.0    320   16.3   14.6     89  10.80      5      2  291.5  322.2  293.4\\n939.0    648   18.1   13.9     77  10.75     60      1  296.5  327.8  298.5\\n933.0    703   18.4   13.8     75  10.74     90      1  297.4  328.8  299.3\\n925.0    776   16.2   11.8     75   9.48    130      1  295.9  323.5  297.6\\n922.0    803   15.8   10.9     72   8.93    135      1  295.8  321.8  297.3\\n911.0    905   14.4    7.4     63   7.14    125      0  295.3  316.3  296.6\\n906.0    951   14.2    7.2     63   7.06    120      0  295.5  316.3  296.8\\n889.0   1110   13.4    6.4     63   6.82     15      2  296.3  316.5  297.6\\n885.0   1148   13.2    6.2     63   6.76     12      2  296.5  316.5  297.7\\n881.0   1186   11.2    4.2     62   5.90     10      3  294.8  312.3  295.9\\n851.0   1475   13.0   -8.0     22   2.47    351      5  299.6  307.4  300.1\\n850.0   1485   12.6   -7.4     24   2.59    350      5  299.3  307.5  299.8\\n799.0   2003   13.0   -4.0     30   3.58    334     10  305.1  316.4  305.8\\n777.0   2236   10.8  -10.2     22   2.28    327     12  305.2  312.6  305.6\\n756.0   2465   15.4   -7.6     20   2.87    320     15  312.6  322.0  313.1\\n745.0   2589   16.2   -7.8     19   2.87    316     16  314.7  324.3  315.3\\n710.0   2996   15.6  -10.4     16   2.45    304     20  318.4  326.8  318.9\\n700.0   3116   14.8  -11.2     16   2.33    300     21  318.8  326.8  319.3\\n657.0   3648   12.6  -15.4     13   1.77    296     28  322.2  328.4  322.5\\n633.0   3958   11.2  -14.8     15   1.93    293     32  324.0  330.8  324.4\\n615.0   4197    8.8  -12.2     21   2.45    292     35  324.0  332.5  324.4\\n607.0   4304    7.6  -15.4     18   1.91    291     37  323.8  330.5  324.2\\n600.0   4399    6.0  -15.0     21   2.00    290     38  323.0  330.0  323.4\\n576.0   4731    2.6   -8.4     44   3.54    290     35  322.8  334.8  323.5\\n559.0   4971    0.0  -20.0     21   1.41    290     32  322.5  327.5  322.8\\n547.0   5144   -1.5  -20.5     22   1.38    290     30  322.8  327.7  323.0\\n521.0   5529   -3.7  -22.7     21   1.19    290     26  324.6  328.9  324.9\\n519.0   5559   -4.1  -22.9     22   1.18    290     26  324.5  328.7  324.7\\n505.0   5773   -7.1  -24.1     24   1.09                323.4  327.3  323.6\\n500.0   5850   -7.9  -23.9     26   1.12                323.3  327.4  323.6\\n479.0   6183   -9.5  -19.5     44   1.71                325.4  331.4  325.7\\n459.0   6512  -11.9  -29.9     21   0.70                326.4  329.0  326.5\\n449.0   6680  -13.3  -24.3     39   1.20                326.6  331.0  326.9\\n405.0   7458  -19.3  -34.3     25   0.52                328.6  330.6  328.8\\n400.0   7550  -19.9  -37.9     19   0.37                329.0  330.5  329.1\\n386.0   7813  -22.7  -40.7     18   0.28                328.7  329.9  328.8\\n377.0   7985  -24.9  -40.9     21   0.29                328.1  329.2  328.1\\n366.0   8200  -26.3  -42.3     21   0.25                329.0  330.0  329.0\\n360.0   8319  -27.7  -44.7     18   0.20                328.6  329.5  328.7\\n344.0   8644  -30.5  -46.5     19   0.17                329.1  329.9  329.2\\n338.0   8769  -31.9  -47.9     19   0.15                328.9  329.5  328.9\\n333.0   8874  -33.3  -48.3     21   0.14                328.4  329.0  328.4\\n318.0   9196  -35.9  -50.9     20   0.11                329.1  329.6  329.1\\n300.0   9600  -36.7  -51.7     20   0.11                333.5  334.0  333.6\\n250.0  10830  -46.5  -60.5     19   0.04                336.8  337.0  336.8\\n240.0  11101  -49.5  -62.5     20   0.04                336.2  336.4  336.2\\n200.0  12280  -58.9                                     339.3         339.3\\n161.0  13598  -70.7                                     341.1         341.1\\n156.0  13783  -72.9                                     340.5         340.5\\n150.0  14010  -76.5                                     338.1         338.1\\n129.0  14824  -76.5                                     353.0         353.0\\n\\n',\n",
       " '42724 VEAT Agartala Observations at 12Z 12 Jan 1985\\n-----------------------------------------------------------------------------\\nPRES   HGHT   TEMP   DWPT   RELH   MIXR   DRCT   SKNT   THTA   THTE   THTV\\nhPa     m      C      C      %    g/kg    deg   knot     K      K      K\\n-----------------------------------------------------------------------------\\n1013.0     16   23.8   19.5     77  14.29    360      0  295.9  337.1  298.4\\n892.0   1116   17.4    3.4     39   5.51                300.2  316.9  301.2\\n795.0   2083    9.0  -14.0     18   1.64                301.3  306.6  301.6\\n646.0   3776    1.6                                     311.3         311.3\\n624.0   4054    0.8                                     313.5         313.5\\n600.0   4367   -1.9                                     313.9         313.9\\n573.0   4731   -3.7                                     315.9         315.9',\n",
       " '42724 VEAT Agartala Observations at 00Z 12 Jan 1985\\n-----------------------------------------------------------------------------\\nPRES   HGHT   TEMP   DWPT   RELH   MIXR   DRCT   SKNT   THTA   THTE   THTV\\nhPa     m      C      C      %    g/kg    deg   knot     K      K      K\\n-----------------------------------------------------------------------------\\n1012.0     16    9.4    9.0     97   7.16    360      0  281.6  301.4  282.8\\n1000.0    117   10.2    8.2     87   6.86     80      0  283.4  302.5  284.5\\n922.0    801   16.4    4.4     45   5.72      3    154  296.4  313.4  297.4\\n850.0   1488   12.2   -2.8     35   3.68    285    309  298.9  310.2  299.6\\n819.0   1760   10.0   -5.0     34   3.23    280    255  299.8  309.8  300.4\\n750.0   2398    8.0  -13.0     21   1.88    269    127  305.2  311.4  305.6\\n700.0   2895    6.4  -14.6     21   1.77    260     27  309.5  315.5  309.9\\n683.0   3112    6.0  -15.0     21   1.76    260     29  311.3  317.2  311.6\\n642.0   3655    3.4  -17.6     20   1.50    260     33  313.9  319.0  314.2\\n600.0   4241    0.2                         260     38  316.3         316.3\\n597.0   4284    0.0                         260     38  316.5         316.5\\n551.0   4971   -3.3                         260     44  319.9         319.9\\n500.0   5790   -7.9                         260     51  323.3         323.3\\n462.0   6399  -11.7                         263     59  326.0         326.0\\n443.0   6719  -13.0                         265     64  328.3         328.3\\n414.0   7233  -15.1                                     332.0         332.0']"
      ]
     },
     "execution_count": 10,
     "metadata": {},
     "output_type": "execute_result"
    }
   ],
   "source": [
    "Observation_list"
   ]
  },
  {
   "cell_type": "code",
   "execution_count": 11,
   "metadata": {},
   "outputs": [
    {
     "data": {
      "text/plain": [
       "['Date: 00Z 11 Jan 1985\\nStation identifier: VEAT\\nStation number: 42724\\nObservation time: 850111/0000\\nStation latitude: 23.87\\nStation longitude: 91.25\\nStation elevation: 16.0\\nShowalter index: 13.78\\nLifted index: 14.92\\nLIFT computed using virtual temperature: 14.80\\nSWEAT index: 84.98\\nK index: -3.10\\nCross totals index: 4.30\\nVertical totals index: 22.30\\nTotals totals index: 26.60\\nConvective Available Potential Energy: 0.00\\nCAPE using virtual temperature: 0.00\\nConvective Inhibition: 0.00\\nCINS using virtual temperature: 0.00\\nBulk Richardson Number: 0.00\\nBulk Richardson Number using CAPV: 0.00\\nTemp [K] of the Lifted Condensation Level: 276.68\\nPres [hPa] of the Lifted Condensation Level: 889.79\\nMean mixed layer potential temperature: 286.11\\nMean mixed layer mixing ratio: 5.60\\n1000 hPa to 500 hPa thickness: 5606.00\\nPrecipitable water [mm] for entire sounding: 13.01\\n\\n\\n\\n\\n',\n",
       " 'Date: 12Z 12 Jan 1985\\nStation identifier: VEAT\\nStation number: 42724\\nObservation time: 850112/1200\\nStation latitude: 23.87\\nStation longitude: 91.25\\nStation elevation: 16.0\\nLifted index: 3.12\\nLIFT computed using virtual temperature: 2.59\\nConvective Available Potential Energy: 14.26\\nCAPE using virtual temperature: 106.76\\nConvective Inhibition: -85.51\\nCINS using virtual temperature: -44.83\\nEquilibrum Level: 704.68\\nLevel of Free Convection: 811.71\\nLFCT using virtual temperature: 841.45\\nTemp [K] of the Lifted Condensation Level: 287.49\\nPres [hPa] of the Lifted Condensation Level: 894.33\\nMean mixed layer potential temperature: 296.85\\nMean mixed layer mixing ratio: 11.85\\nPrecipitable water [mm] for entire sounding: 15.75\\n\\n\\n\\n\\n',\n",
       " 'Date: 00Z 12 Jan 1985\\nStation identifier: VEAT\\nStation number: 42724\\nObservation time: 850112/0000\\nStation latitude: 23.87\\nStation longitude: 91.25\\nStation elevation: 16.0\\nShowalter index: 14.32\\nLifted index: 17.80\\nLIFT computed using virtual temperature: 17.66\\nSWEAT index: 668.98\\nK index: -3.70\\nCross totals index: 5.10\\nVertical totals index: 20.10\\nTotals totals index: 25.20\\nConvective Available Potential Energy: 0.00\\nCAPE using virtual temperature: 0.00\\nConvective Inhibition: 0.00\\nCINS using virtual temperature: 0.00\\nBulk Richardson Number: 0.00\\nBulk Richardson Number using CAPV: 0.00\\nTemp [K] of the Lifted Condensation Level: 279.63\\nPres [hPa] of the Lifted Condensation Level: 922.94\\nMean mixed layer potential temperature: 286.16\\nMean mixed layer mixing ratio: 6.62\\n1000 hPa to 500 hPa thickness: 5673.00\\nPrecipitable water [mm] for entire sounding: 14.12']"
      ]
     },
     "execution_count": 11,
     "metadata": {},
     "output_type": "execute_result"
    }
   ],
   "source": [
    "Station_list"
   ]
  },
  {
   "cell_type": "code",
   "execution_count": null,
   "metadata": {},
   "outputs": [],
   "source": []
  }
 ],
 "metadata": {
  "kernelspec": {
   "display_name": "Python 3",
   "language": "python",
   "name": "python3"
  },
  "language_info": {
   "codemirror_mode": {
    "name": "ipython",
    "version": 3
   },
   "file_extension": ".py",
   "mimetype": "text/x-python",
   "name": "python",
   "nbconvert_exporter": "python",
   "pygments_lexer": "ipython3",
   "version": "3.7.3"
  }
 },
 "nbformat": 4,
 "nbformat_minor": 2
}
